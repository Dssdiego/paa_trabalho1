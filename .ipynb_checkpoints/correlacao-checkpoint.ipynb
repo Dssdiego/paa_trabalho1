{
 "cells": [
  {
   "cell_type": "code",
   "execution_count": 2,
   "metadata": {},
   "outputs": [],
   "source": [
    "import numpy as np\n",
    "import cv2"
   ]
  },
  {
   "cell_type": "code",
   "execution_count": 3,
   "metadata": {},
   "outputs": [],
   "source": [
    "# imageData = cv2.imread('noise_2.png')\n",
    "imageData = cv2.imread('noise_2.png', cv2.IMREAD_GRAYSCALE)"
   ]
  },
  {
   "cell_type": "code",
   "execution_count": 4,
   "metadata": {},
   "outputs": [
    {
     "data": {
      "text/plain": [
       "array([[ 58,  39, 255, ...,  96,  85,  90],\n",
       "       [ 56,  37,  31, ...,  94,  79,  79],\n",
       "       [ 55,  34,  27, ...,  83,  75,  62],\n",
       "       ...,\n",
       "       [ 68,  73,  81, ...,  67,  57,  55],\n",
       "       [ 65,  64,  66, ...,  83,  80,  72],\n",
       "       [ 85,  88,  88, ...,  85,  80,  69]], dtype=uint8)"
      ]
     },
     "execution_count": 4,
     "metadata": {},
     "output_type": "execute_result"
    }
   ],
   "source": [
    "imageData\n",
    "# for i in range(len(imageData)):\n",
    "#     print(imageData[i])"
   ]
  },
  {
   "cell_type": "code",
   "execution_count": 5,
   "metadata": {},
   "outputs": [
    {
     "data": {
      "text/plain": [
       "array([ 58,  39, 255,  26,  24,  28,  26,  31,  39,  61,  66,  62,  59,\n",
       "        72,  47,  27,  35,  40,  44,  48,  64,  71,  65, 255,  91,  90,\n",
       "        90,  79,  42,  22,  29,  61,  75,  51,  41,  53,  44,  33,  47,\n",
       "        32,  25,  51,  59,  28,  27,  28,  27,  55,  77,  65,   0,  28,\n",
       "        36,   0,  61,  70,  37,  26,  27,  27,  26,  26,  27,  27,  26,\n",
       "        18,  26,  53,  46,  49,  66,  84,  67,  29,  23,  30, 255,  25,\n",
       "        28,  31,  28,  26,  25,  25,  27,  28,  28,  28,  27,  23,  48,\n",
       "        99,  94,  80,  85,  52,  58,  76,  65,  63,  57,  48,   0,  70,\n",
       "       120, 150, 137,  67,  30,  31,  34,  39,  54,   0,  56,  65,  71,\n",
       "       103, 126, 127, 118,  97,  82,  74,  75,  95,  95,  92, 101, 120,\n",
       "       135, 117,  97,  85,  80,  87,  97,  92,  80, 100, 119, 116, 101,\n",
       "        98,  97,  97,  98, 108, 116, 109, 115, 131, 110,  97, 255,  74,\n",
       "        57,  60,  71,  64,  55,  56,  47,  56,  95, 111,  84,  66,  98,\n",
       "       121, 105, 104, 115, 116, 120, 133, 141, 137, 125, 101,  86, 103,\n",
       "       111, 108,  99,  69,  55,  74, 105, 112, 105,  98, 104, 107,  90,\n",
       "        79,  94, 105,   0,  98,  84, 101, 100,  84,  93, 104, 100, 109,\n",
       "       117, 112, 106,  70,  38,  45,  69,  85,  84,  91,  96,   0, 133,\n",
       "       131, 107,  93,  86,  91, 115, 126, 116,  99,  83,  86, 108, 120,\n",
       "       102,  93, 127, 128, 124, 119,  75,  66, 100, 103,  89,  93, 109,\n",
       "       110,  96,  88,  94, 100, 112, 112,  99,   0, 105, 119, 115, 104,\n",
       "        93,  81, 103, 151, 143, 107,  94,  94, 111, 118, 118, 126, 119,\n",
       "        97, 115, 255, 255, 106,  99, 100,  86, 102, 137, 147, 125,  97,\n",
       "        66,  40,  47,  65,  70,  75,  78,  77,  76, 107,  96,  77,  69,\n",
       "        73,  79,  81,  87, 107, 109, 112, 116, 108, 108,  89,  89, 104,\n",
       "        81,  82, 106, 100,  70,  60,  77,  80, 101,  92,  82,  95, 126,\n",
       "       115,  90,  81,  79,  84,  94,  68, 255,  43, 255,  32,  28,  47,\n",
       "        60,  71,  90,  46,  25,  26,  39,  58,  52,  52,  64,  77,  68,\n",
       "        70,   0,  80,  71,  83,  83,  77,  83,  79,  58,  56,  54,  66,\n",
       "        79,   0,  88,  52,  31,  38,  69, 103, 111,  74,  59,  73,  62,\n",
       "        62,  83,  88,  94,  96,  85,  90], dtype=uint8)"
      ]
     },
     "execution_count": 5,
     "metadata": {},
     "output_type": "execute_result"
    }
   ],
   "source": [
    "imageData[0]"
   ]
  },
  {
   "cell_type": "code",
   "execution_count": 6,
   "metadata": {},
   "outputs": [
    {
     "data": {
      "text/plain": [
       "58"
      ]
     },
     "execution_count": 6,
     "metadata": {},
     "output_type": "execute_result"
    }
   ],
   "source": [
    "imageData[0][0]"
   ]
  },
  {
   "cell_type": "code",
   "execution_count": 8,
   "metadata": {},
   "outputs": [],
   "source": [
    "cv2.imshow('image', imageData)\n",
    "cv2.waitKey(0)\n",
    "cv2.destroyAllWindows()"
   ]
  },
  {
   "cell_type": "code",
   "execution_count": null,
   "metadata": {},
   "outputs": [],
   "source": []
  }
 ],
 "metadata": {
  "kernelspec": {
   "display_name": "Python 3",
   "language": "python",
   "name": "python3"
  },
  "language_info": {
   "codemirror_mode": {
    "name": "ipython",
    "version": 3
   },
   "file_extension": ".py",
   "mimetype": "text/x-python",
   "name": "python",
   "nbconvert_exporter": "python",
   "pygments_lexer": "ipython3",
   "version": "3.8.5"
  }
 },
 "nbformat": 4,
 "nbformat_minor": 4
}
